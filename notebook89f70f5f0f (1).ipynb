{
 "cells": [
  {
   "cell_type": "code",
   "execution_count": 1,
   "id": "a6e3b610",
   "metadata": {
    "_cell_guid": "b1076dfc-b9ad-4769-8c92-a6c4dae69d19",
    "_uuid": "8f2839f25d086af736a60e9eeb907d3b93b6e0e5",
    "execution": {
     "iopub.execute_input": "2024-04-30T04:24:46.932262Z",
     "iopub.status.busy": "2024-04-30T04:24:46.931751Z",
     "iopub.status.idle": "2024-04-30T04:24:48.535289Z",
     "shell.execute_reply": "2024-04-30T04:24:48.533794Z"
    },
    "papermill": {
     "duration": 1.615728,
     "end_time": "2024-04-30T04:24:48.538728",
     "exception": false,
     "start_time": "2024-04-30T04:24:46.923000",
     "status": "completed"
    },
    "tags": []
   },
   "outputs": [],
   "source": [
    "import pandas as pd\n",
    "\n",
    "train_df = pd.read_csv('/kaggle/input/playground-series-s4e4/train.csv').set_index('id').reset_index(drop=True)\n",
    "test_df = pd.read_csv('/kaggle/input/playground-series-s4e4/test.csv').set_index('id').reset_index(drop=True)\n"
   ]
  },
  {
   "cell_type": "code",
   "execution_count": 2,
   "id": "cd3ceb74",
   "metadata": {
    "execution": {
     "iopub.execute_input": "2024-04-30T04:24:48.554679Z",
     "iopub.status.busy": "2024-04-30T04:24:48.553415Z",
     "iopub.status.idle": "2024-04-30T04:24:48.565176Z",
     "shell.execute_reply": "2024-04-30T04:24:48.563471Z"
    },
    "papermill": {
     "duration": 0.02316,
     "end_time": "2024-04-30T04:24:48.568164",
     "exception": false,
     "start_time": "2024-04-30T04:24:48.545004",
     "status": "completed"
    },
    "tags": []
   },
   "outputs": [
    {
     "data": {
      "text/plain": [
       "(90615, 9)"
      ]
     },
     "execution_count": 2,
     "metadata": {},
     "output_type": "execute_result"
    }
   ],
   "source": [
    "train_df.shape"
   ]
  },
  {
   "cell_type": "code",
   "execution_count": 3,
   "id": "2ffdf27b",
   "metadata": {
    "execution": {
     "iopub.execute_input": "2024-04-30T04:24:48.582696Z",
     "iopub.status.busy": "2024-04-30T04:24:48.582182Z",
     "iopub.status.idle": "2024-04-30T04:24:48.591095Z",
     "shell.execute_reply": "2024-04-30T04:24:48.589847Z"
    },
    "papermill": {
     "duration": 0.019287,
     "end_time": "2024-04-30T04:24:48.593646",
     "exception": false,
     "start_time": "2024-04-30T04:24:48.574359",
     "status": "completed"
    },
    "tags": []
   },
   "outputs": [
    {
     "data": {
      "text/plain": [
       "(60411, 8)"
      ]
     },
     "execution_count": 3,
     "metadata": {},
     "output_type": "execute_result"
    }
   ],
   "source": [
    "test_df.shape"
   ]
  },
  {
   "cell_type": "code",
   "execution_count": 4,
   "id": "28651e38",
   "metadata": {
    "execution": {
     "iopub.execute_input": "2024-04-30T04:24:48.609178Z",
     "iopub.status.busy": "2024-04-30T04:24:48.607975Z",
     "iopub.status.idle": "2024-04-30T04:24:48.645620Z",
     "shell.execute_reply": "2024-04-30T04:24:48.643924Z"
    },
    "papermill": {
     "duration": 0.048698,
     "end_time": "2024-04-30T04:24:48.648705",
     "exception": false,
     "start_time": "2024-04-30T04:24:48.600007",
     "status": "completed"
    },
    "tags": []
   },
   "outputs": [],
   "source": [
    "train_df = pd.concat([train_df, pd.get_dummies(train_df['Sex'], dtype=int)], axis=1).drop(columns=['Sex'])\n",
    "\n",
    "\n",
    "\n",
    "\n"
   ]
  },
  {
   "cell_type": "code",
   "execution_count": 5,
   "id": "1a6c82b6",
   "metadata": {
    "execution": {
     "iopub.execute_input": "2024-04-30T04:24:48.663558Z",
     "iopub.status.busy": "2024-04-30T04:24:48.663088Z",
     "iopub.status.idle": "2024-04-30T04:24:48.683023Z",
     "shell.execute_reply": "2024-04-30T04:24:48.681662Z"
    },
    "papermill": {
     "duration": 0.031063,
     "end_time": "2024-04-30T04:24:48.686138",
     "exception": false,
     "start_time": "2024-04-30T04:24:48.655075",
     "status": "completed"
    },
    "tags": []
   },
   "outputs": [],
   "source": [
    "test_df = pd.concat([test_df, pd.get_dummies(test_df['Sex'], dtype=int)], axis=1).drop(columns=['Sex'])\n"
   ]
  },
  {
   "cell_type": "code",
   "execution_count": 6,
   "id": "59cd09ef",
   "metadata": {
    "execution": {
     "iopub.execute_input": "2024-04-30T04:24:48.701291Z",
     "iopub.status.busy": "2024-04-30T04:24:48.700832Z",
     "iopub.status.idle": "2024-04-30T04:24:48.717797Z",
     "shell.execute_reply": "2024-04-30T04:24:48.716099Z"
    },
    "papermill": {
     "duration": 0.028023,
     "end_time": "2024-04-30T04:24:48.720979",
     "exception": false,
     "start_time": "2024-04-30T04:24:48.692956",
     "status": "completed"
    },
    "tags": []
   },
   "outputs": [],
   "source": [
    "train_df = train_df.reset_index(drop=True)\n",
    "test_df = test_df.reset_index(drop=True)"
   ]
  },
  {
   "cell_type": "code",
   "execution_count": 7,
   "id": "3158f721",
   "metadata": {
    "execution": {
     "iopub.execute_input": "2024-04-30T04:24:48.737250Z",
     "iopub.status.busy": "2024-04-30T04:24:48.735712Z",
     "iopub.status.idle": "2024-04-30T04:24:51.486001Z",
     "shell.execute_reply": "2024-04-30T04:24:51.484573Z"
    },
    "papermill": {
     "duration": 2.762206,
     "end_time": "2024-04-30T04:24:51.489620",
     "exception": false,
     "start_time": "2024-04-30T04:24:48.727414",
     "status": "completed"
    },
    "tags": []
   },
   "outputs": [],
   "source": [
    "import matplotlib.pyplot as plt\n",
    "\n",
    "from tqdm import tqdm\n",
    "\n",
    "from sklearn.linear_model import LinearRegression\n",
    "from sklearn.model_selection import cross_val_score, train_test_split, KFold\n",
    "from sklearn.metrics import make_scorer\n",
    "from sklearn.preprocessing import StandardScaler, PolynomialFeatures, MinMaxScaler\n",
    "from sklearn.decomposition import PCA\n",
    "\n",
    "from collections import Counter\n",
    "\n",
    "from sklearn.feature_selection import SelectKBest, chi2\n",
    "from sklearn.feature_selection import RFE\n",
    "from sklearn.feature_selection import RFECV\n",
    "from sklearn.feature_selection import SelectKBest\n",
    "from sklearn.feature_selection import chi2\n",
    "\n",
    "from xgboost import XGBRegressor\n",
    "\n",
    "from catboost import CatBoostRegressor\n",
    "\n",
    "import warnings\n",
    "warnings.filterwarnings(\"ignore\")\n"
   ]
  },
  {
   "cell_type": "code",
   "execution_count": 8,
   "id": "bda39301",
   "metadata": {
    "execution": {
     "iopub.execute_input": "2024-04-30T04:24:51.504323Z",
     "iopub.status.busy": "2024-04-30T04:24:51.503846Z",
     "iopub.status.idle": "2024-04-30T04:24:51.511637Z",
     "shell.execute_reply": "2024-04-30T04:24:51.510236Z"
    },
    "papermill": {
     "duration": 0.018443,
     "end_time": "2024-04-30T04:24:51.514345",
     "exception": false,
     "start_time": "2024-04-30T04:24:51.495902",
     "status": "completed"
    },
    "tags": []
   },
   "outputs": [],
   "source": [
    "from sklearn.metrics import mean_squared_log_error\n",
    "\n",
    "def rmsle_score(y_true, y_pred):\n",
    "    msle = mean_squared_log_error(abs(y_true), abs(y_pred))\n",
    "    return np.sqrt(msle)\n",
    "\n",
    "rmsle_scorer = make_scorer(rmsle_score)"
   ]
  },
  {
   "cell_type": "code",
   "execution_count": 9,
   "id": "93bd6f07",
   "metadata": {
    "execution": {
     "iopub.execute_input": "2024-04-30T04:24:51.529670Z",
     "iopub.status.busy": "2024-04-30T04:24:51.529255Z",
     "iopub.status.idle": "2024-04-30T04:26:10.731974Z",
     "shell.execute_reply": "2024-04-30T04:26:10.730017Z"
    },
    "papermill": {
     "duration": 79.220001,
     "end_time": "2024-04-30T04:26:10.740947",
     "exception": false,
     "start_time": "2024-04-30T04:24:51.520946",
     "status": "completed"
    },
    "tags": []
   },
   "outputs": [
    {
     "name": "stdout",
     "output_type": "stream",
     "text": [
      "Model: CatBoostRegressor\n",
      "RMSLE scores mean: 0.14945312666382982\n",
      "\n",
      "\n"
     ]
    }
   ],
   "source": [
    "import numpy as np\n",
    "import pandas as pd\n",
    "import matplotlib.pyplot as plt\n",
    "import seaborn as sns\n",
    "from sklearn.linear_model import LinearRegression\n",
    "from xgboost import XGBRegressor\n",
    "from lightgbm import LGBMRegressor\n",
    "from catboost import CatBoostRegressor\n",
    "from sklearn.model_selection import train_test_split\n",
    "\n",
    "X = train_df.drop(columns=['Rings'])\n",
    "y = train_df['Rings']\n",
    "\n",
    "import numpy as np\n",
    "import pandas as pd\n",
    "import matplotlib.pyplot as plt\n",
    "import seaborn as sns\n",
    "from sklearn.linear_model import LinearRegression\n",
    "from xgboost import XGBRegressor\n",
    "from lightgbm import LGBMRegressor\n",
    "from catboost import CatBoostRegressor\n",
    "from sklearn.model_selection import train_test_split, KFold, cross_val_score\n",
    "from sklearn.metrics import make_scorer\n",
    "\n",
    "\n",
    "def rmsle_score(y_true, y_pred):\n",
    "    return np.sqrt(np.mean((np.log1p(y_pred) - np.log1p(y_true)) ** 2))\n",
    "\n",
    "\n",
    "\n",
    "\n",
    "X_train, X_test, y_train, y_test = train_test_split(X, y, test_size=0.3, random_state=42)\n",
    "\n",
    "\n",
    "models = [\n",
    "    \n",
    "    CatBoostRegressor(task_type='CPU', verbose=False, random_state=42)  \n",
    "]\n",
    "\n",
    "\n",
    "kf = KFold(n_splits=10, shuffle=True, random_state=42)\n",
    "scores_list = []\n",
    "\n",
    "for model in models:\n",
    "    try:\n",
    "        scores = cross_val_score(model, X_train, y_train, scoring=make_scorer(rmsle_score), cv=kf)\n",
    "        scores_list.append(scores)\n",
    "        print(f\"Model: {model.__class__.__name__}\")\n",
    "        print(\"RMSLE scores mean:\", np.mean(scores))\n",
    "        print(\"\\n\")\n",
    "    except Exception as e:\n",
    "        print(f\"Failed to train {model.__class__.__name__} due to {e}\")\n",
    "\n",
    "\n"
   ]
  },
  {
   "cell_type": "code",
   "execution_count": 10,
   "id": "a7defcf6",
   "metadata": {
    "execution": {
     "iopub.execute_input": "2024-04-30T04:26:10.756552Z",
     "iopub.status.busy": "2024-04-30T04:26:10.756101Z",
     "iopub.status.idle": "2024-04-30T04:26:10.765100Z",
     "shell.execute_reply": "2024-04-30T04:26:10.763742Z"
    },
    "papermill": {
     "duration": 0.020687,
     "end_time": "2024-04-30T04:26:10.768281",
     "exception": false,
     "start_time": "2024-04-30T04:26:10.747594",
     "status": "completed"
    },
    "tags": []
   },
   "outputs": [],
   "source": [
    "feature_names = X_train.columns\n",
    "for idx, model in enumerate(models[1:]):  \n",
    "    model.fit(X_train, y_train)  \n",
    "    importances = model.feature_importances_\n",
    "    importance_data = pd.DataFrame({'Feature': feature_names, 'Importance': importances})\n",
    "    plt.figure(figsize=(10, 6))\n",
    "    sns.barplot(x='Importance', y='Feature', data=importance_data.sort_values('Importance', ascending=False))\n",
    "    plt.title(f'{model.__class__.__name__} Feature Importance')\n",
    "    plt.tight_layout()\n",
    "    plt.show()\n"
   ]
  },
  {
   "cell_type": "code",
   "execution_count": 11,
   "id": "fe781229",
   "metadata": {
    "execution": {
     "iopub.execute_input": "2024-04-30T04:26:10.783701Z",
     "iopub.status.busy": "2024-04-30T04:26:10.783230Z",
     "iopub.status.idle": "2024-04-30T04:26:21.310227Z",
     "shell.execute_reply": "2024-04-30T04:26:21.308476Z"
    },
    "papermill": {
     "duration": 10.538372,
     "end_time": "2024-04-30T04:26:21.313394",
     "exception": false,
     "start_time": "2024-04-30T04:26:10.775022",
     "status": "completed"
    },
    "tags": []
   },
   "outputs": [
    {
     "name": "stdout",
     "output_type": "stream",
     "text": [
      "CatBoost model trained successfully.\n",
      "Predictions added to 'sub' DataFrame successfully.\n"
     ]
    }
   ],
   "source": [
    "sub = pd.read_csv('/kaggle/input/playground-series-s4e4/sample_submission.csv')\n",
    "\n",
    "cat = CatBoostRegressor(\n",
    "    task_type='GPU', \n",
    "    verbose=False, \n",
    "    random_state=42,\n",
    "    iterations = 4885, \n",
    "    learning_rate = 0.0010440584402121896, \n",
    "    bagging_temperature = 0.3583926555184656,\n",
    "    depth = 5, \n",
    "    l2_leaf_reg = 0.59441367755379071,\n",
    "    random_strength = 0.0096918283504264173,\n",
    "    border_count = 252,\n",
    ")\n",
    "\n",
    "\n",
    "\n",
    "from catboost import CatBoostRegressor\n",
    "\n",
    "\n",
    "cat = CatBoostRegressor(task_type='CPU', verbose=False, random_state=42)\n",
    "\n",
    "\n",
    "try:\n",
    "    cat.fit(X, y)\n",
    "    print(\"CatBoost model trained successfully.\")\n",
    "except Exception as e:\n",
    "    print(\"Failed to train CatBoost model:\", e)\n",
    "\n",
    "\n",
    "if 'cat' in locals():  \n",
    "    try:\n",
    "        sub['Rings'] = cat.predict(test_df)\n",
    "        print(\"Predictions added to 'sub' DataFrame successfully.\")\n",
    "    except Exception as e:\n",
    "        print(\"Failed to make predictions:\", e)\n"
   ]
  },
  {
   "cell_type": "code",
   "execution_count": 12,
   "id": "b9509c87",
   "metadata": {
    "execution": {
     "iopub.execute_input": "2024-04-30T04:26:21.330980Z",
     "iopub.status.busy": "2024-04-30T04:26:21.330482Z",
     "iopub.status.idle": "2024-04-30T04:27:59.528964Z",
     "shell.execute_reply": "2024-04-30T04:27:59.527611Z"
    },
    "papermill": {
     "duration": 98.218627,
     "end_time": "2024-04-30T04:27:59.538599",
     "exception": false,
     "start_time": "2024-04-30T04:26:21.319972",
     "status": "completed"
    },
    "tags": []
   },
   "outputs": [
    {
     "data": {
      "text/plain": [
       "0.14936783253610555"
      ]
     },
     "execution_count": 12,
     "metadata": {},
     "output_type": "execute_result"
    }
   ],
   "source": [
    "kf = KFold(n_splits=10, shuffle=True, random_state=42)\n",
    "cross_val_score(cat, X, y, scoring=make_scorer(rmsle_score), cv=kf).mean()"
   ]
  },
  {
   "cell_type": "code",
   "execution_count": 13,
   "id": "0890d89a",
   "metadata": {
    "execution": {
     "iopub.execute_input": "2024-04-30T04:27:59.555537Z",
     "iopub.status.busy": "2024-04-30T04:27:59.554127Z",
     "iopub.status.idle": "2024-04-30T04:27:59.562589Z",
     "shell.execute_reply": "2024-04-30T04:27:59.561022Z"
    },
    "papermill": {
     "duration": 0.020397,
     "end_time": "2024-04-30T04:27:59.565887",
     "exception": false,
     "start_time": "2024-04-30T04:27:59.545490",
     "status": "completed"
    },
    "tags": []
   },
   "outputs": [],
   "source": [
    "sub['Rings'] = abs(sub['Rings'])"
   ]
  },
  {
   "cell_type": "code",
   "execution_count": 14,
   "id": "facf9c00",
   "metadata": {
    "execution": {
     "iopub.execute_input": "2024-04-30T04:27:59.581902Z",
     "iopub.status.busy": "2024-04-30T04:27:59.581434Z",
     "iopub.status.idle": "2024-04-30T04:27:59.790318Z",
     "shell.execute_reply": "2024-04-30T04:27:59.788902Z"
    },
    "papermill": {
     "duration": 0.220472,
     "end_time": "2024-04-30T04:27:59.793627",
     "exception": false,
     "start_time": "2024-04-30T04:27:59.573155",
     "status": "completed"
    },
    "tags": []
   },
   "outputs": [],
   "source": [
    "sub.to_csv('submission.csv', index=False)"
   ]
  },
  {
   "cell_type": "code",
   "execution_count": null,
   "id": "f4ee87f0",
   "metadata": {
    "papermill": {
     "duration": 0.0065,
     "end_time": "2024-04-30T04:27:59.807227",
     "exception": false,
     "start_time": "2024-04-30T04:27:59.800727",
     "status": "completed"
    },
    "tags": []
   },
   "outputs": [],
   "source": []
  }
 ],
 "metadata": {
  "kaggle": {
   "accelerator": "none",
   "dataSources": [
    {
     "databundleVersionId": 8096274,
     "sourceId": 72489,
     "sourceType": "competition"
    }
   ],
   "dockerImageVersionId": 30698,
   "isGpuEnabled": false,
   "isInternetEnabled": true,
   "language": "python",
   "sourceType": "notebook"
  },
  "kernelspec": {
   "display_name": "Python 3",
   "language": "python",
   "name": "python3"
  },
  "language_info": {
   "codemirror_mode": {
    "name": "ipython",
    "version": 3
   },
   "file_extension": ".py",
   "mimetype": "text/x-python",
   "name": "python",
   "nbconvert_exporter": "python",
   "pygments_lexer": "ipython3",
   "version": "3.10.13"
  },
  "papermill": {
   "default_parameters": {},
   "duration": 197.570918,
   "end_time": "2024-04-30T04:28:00.943315",
   "environment_variables": {},
   "exception": null,
   "input_path": "__notebook__.ipynb",
   "output_path": "__notebook__.ipynb",
   "parameters": {},
   "start_time": "2024-04-30T04:24:43.372397",
   "version": "2.5.0"
  }
 },
 "nbformat": 4,
 "nbformat_minor": 5
}
